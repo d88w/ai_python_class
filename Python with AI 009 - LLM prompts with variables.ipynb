{
 "cells": [
  {
   "cell_type": "markdown",
   "id": "817221c9",
   "metadata": {},
   "source": [
    "# L9: Building LLM prompts with variables"
   ]
  },
  {
   "cell_type": "markdown",
   "id": "36029c06",
   "metadata": {},
   "source": [
    "In the next cell, you will import the function `print_llm_response` that uses an LLM with an instruction that you provide as a string and displays the result."
   ]
  },
  {
   "cell_type": "code",
   "execution_count": 1,
   "id": "cc237f34",
   "metadata": {},
   "outputs": [],
   "source": [
    "from helper_functions import print_llm_response"
   ]
  },
  {
   "cell_type": "markdown",
   "id": "3074c1f9",
   "metadata": {},
   "source": [
    "Basically, you can use that function as if you were asking a chatbot. You just need to provide your instructions as a string. For instance, you can ask \"What is the capital of France?\" using the following code:"
   ]
  },
  {
   "cell_type": "code",
   "execution_count": 2,
   "id": "afcf6686",
   "metadata": {},
   "outputs": [
    {
     "name": "stdout",
     "output_type": "stream",
     "text": [
      "The capital of France is Paris.\n"
     ]
    }
   ],
   "source": [
    "print_llm_response(\"What is the capital of France?\")"
   ]
  },
  {
   "cell_type": "markdown",
   "id": "7e164d69",
   "metadata": {},
   "source": [
    "Let's ask the LLM for the lifestyle description for Otto Matic, whose name is stored in `name`, if he were a `dog_age` years old dog."
   ]
  },
  {
   "cell_type": "code",
   "execution_count": 3,
   "id": "196644ca",
   "metadata": {},
   "outputs": [],
   "source": [
    "name = \"Otto Matic\"\n",
    "dog_age = 21/7"
   ]
  },
  {
   "cell_type": "code",
   "execution_count": 4,
   "id": "ad18f441",
   "metadata": {},
   "outputs": [
    {
     "name": "stdout",
     "output_type": "stream",
     "text": [
      "At 3.0 years old, Otto Matic would be considered an adult dog. This life stage typically entails high energy levels, a strong interest in play and exercise, and a continued need for mental stimulation. Adult dogs may exhibit more independence but still require regular physical activity and social interaction to stay healthy and happy. They may also display more consistent behavior patterns and have established preferences for certain activities or toys.\n"
     ]
    }
   ],
   "source": [
    "print_llm_response(f\"\"\"If {name} were a dog, he would be {dog_age} years old.\n",
    "Describe what life stage that would be for a dog and what that might \n",
    "entail in terms of energy level, interests, and behavior.\"\"\")"
   ]
  },
  {
   "cell_type": "markdown",
   "id": "8349cb53",
   "metadata": {},
   "source": [
    "<b>You just used AI with your own variables!</b> You used an LLM with instructions that included variables you defined in this notebook.\n",
    "\n",
    "<b>Congratulations 🎉🎉🎉</b>"
   ]
  },
  {
   "cell_type": "markdown",
   "id": "51181411",
   "metadata": {},
   "source": [
    "## Variable names restrictions"
   ]
  },
  {
   "cell_type": "markdown",
   "id": "89d94522",
   "metadata": {},
   "source": [
    "The following variable names also have some problems. Try to fix them yourself or use the help from the chatbot."
   ]
  },
  {
   "cell_type": "code",
   "execution_count": 9,
   "id": "af96e951",
   "metadata": {},
   "outputs": [],
   "source": [
    "driver = \"Scottie Scheffler\"\n",
    "drivers_vehicle = \"golf cart\"\n",
    "favorite_planet = \"Pluto\""
   ]
  },
  {
   "cell_type": "markdown",
   "id": "59a3a881",
   "metadata": {},
   "source": [
    "Now, update the next cell with any changes you made in the previous cell."
   ]
  },
  {
   "cell_type": "code",
   "execution_count": 11,
   "id": "02b7e02c",
   "metadata": {},
   "outputs": [
    {
     "name": "stdout",
     "output_type": "stream",
     "text": [
      "Once upon a time, Scottie Scheffler, the adventurous Scottie dog, received a special invitation to compete in the prestigious Pluto Golf Tournament. Excited and determined to win, Scottie knew he needed to get to Pluto quickly. So, he challenged the fastest golf cart driver in the galaxy, Mickey Mouse, to a race.\n",
      "\n",
      "With a wag of his tail and a determined bark, Scottie and Mickey revved up their engines and zoomed off towards Pluto. Along the way, Scottie shared stories of his love for golf and how he used to practice his swing with sticks in the backyard. Mickey chuckled and shared tales of his own golfing adventures, including the time he aced a hole-in-one while wearing his iconic red shorts.\n",
      "\n",
      "As they raced through the twinkling stars and past colorful planets, Scottie and Mickey encountered obstacles like asteroid fields and space debris. But with Scottie's keen sense of direction and Mickey's expert driving skills, they navigated through the challenges with ease.\n",
      "\n",
      "Finally, they arrived at the Pluto Golf Tournament just in time for Scottie to tee off. With a wag of his tail and a confident bark, Scottie stepped up to the first hole and swung his club with precision. The ball soared through the air, landing just inches from the hole.\n",
      "\n",
      "The crowd cheered as Scottie made his way through the tournament, showcasing his skills and determination. In the end, Scottie emerged victorious, winning the tournament and earning a shiny trophy.\n",
      "\n",
      "As Scottie and Mickey celebrated their victory, they knew that their friendship and teamwork had made all the difference. And as they raced back home, they knew that they would always be a winning team, no matter where their adventures took them.\n"
     ]
    }
   ],
   "source": [
    "print_llm_response(f\"\"\"Write me a 300 word children's story about a {driver} racing\n",
    "a {drivers_vehicle} to compete in {favorite_planet} golf turnament. look up who the driver is and incorporate some personal stories\"\"\")"
   ]
  },
  {
   "cell_type": "markdown",
   "id": "98ec7de7",
   "metadata": {},
   "source": [
    "## Extra practice\n",
    "\n",
    "Try the exercises below to practice the concepts from this lesson. Read the comments in each cell with the instructions for each exercise.\n",
    "\n",
    "<b>Feel free to use the chatbot if you need help.</b>"
   ]
  },
  {
   "cell_type": "code",
   "execution_count": 15,
   "id": "9fb2bd26",
   "metadata": {},
   "outputs": [
    {
     "name": "stdout",
     "output_type": "stream",
     "text": [
      "My most favorite book is 1001 Ways to Wear a Hat, but I also like 2002 Ways to Wear a Scarf.\n"
     ]
    }
   ],
   "source": [
    "# Fix this code\n",
    "first_fav_book = \"1001 Ways to Wear a Hat\"\n",
    "\n",
    "second_fav_book = \"2002 Ways to Wear a Scarf\"\n",
    "\n",
    "print(f\"My most favorite book is {first_fav_book}, but I also like {second_fav_book}.\")"
   ]
  },
  {
   "cell_type": "code",
   "execution_count": 17,
   "id": "407023e6",
   "metadata": {},
   "outputs": [
    {
     "name": "stdout",
     "output_type": "stream",
     "text": [
      "You might enjoy the song \"Stargazing\" by Kygo ft. Justin Jesso.\n"
     ]
    }
   ],
   "source": [
    "# Make variables for your favorite game, movie, and food.\n",
    "# Then use print_llm_response to ask the LLM to recommend you\n",
    "# a new song to listen to based on your likes.\n",
    "\n",
    "fav_game = \"Golf\"\n",
    "fav_food = \"Sichuan Hotpot\"\n",
    "fav_movie = \"Interstellar\"\n",
    "\n",
    "print_llm_response(f\"\"\"\n",
    "My favorite game, food, and movie are: {fav_game}, {fav_food}, and {fav_movie}. \n",
    "Based on my likes, revommend me a new song to listen to.\n",
    "\"\"\")"
   ]
  },
  {
   "cell_type": "code",
   "execution_count": null,
   "id": "4b28cbb0",
   "metadata": {},
   "outputs": [],
   "source": []
  }
 ],
 "metadata": {
  "kernelspec": {
   "display_name": "Python 3 (ipykernel)",
   "language": "python",
   "name": "python3"
  },
  "language_info": {
   "codemirror_mode": {
    "name": "ipython",
    "version": 3
   },
   "file_extension": ".py",
   "mimetype": "text/x-python",
   "name": "python",
   "nbconvert_exporter": "python",
   "pygments_lexer": "ipython3",
   "version": "3.9.13"
  }
 },
 "nbformat": 4,
 "nbformat_minor": 5
}
